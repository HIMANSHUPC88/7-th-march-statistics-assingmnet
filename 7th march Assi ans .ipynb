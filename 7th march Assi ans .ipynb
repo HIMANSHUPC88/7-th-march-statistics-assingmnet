{
 "cells": [
  {
   "cell_type": "markdown",
   "id": "c94fa918-73d2-4067-bbb6-8cf86ea25e11",
   "metadata": {},
   "source": [
    "# Q1. What are the three measures of central tendency?"
   ]
  },
  {
   "cell_type": "code",
   "execution_count": null,
   "id": "00420595-d75e-4011-aa1e-204f7abeaf03",
   "metadata": {},
   "outputs": [],
   "source": [
    "Ans: The Three measures of central tendency are - \n",
    "    1 - Mean \n",
    "    2 - Median \n",
    "    3 - Mode"
   ]
  },
  {
   "cell_type": "markdown",
   "id": "95fa373d-10c6-41d4-93d7-6feab827cc57",
   "metadata": {},
   "source": [
    "# Q2. What is the difference between the mean, median, and mode? How are they used to measure the central tendency of a dataset?"
   ]
  },
  {
   "cell_type": "code",
   "execution_count": null,
   "id": "e361987c-c7de-4706-a37b-2deea26e37c5",
   "metadata": {},
   "outputs": [],
   "source": [
    "Ans:-\n",
    "\n",
    "Mean - The Mean is the average of all values in a data set . it is calculated by adding up all the values and dividing by the number of values.\n",
    "\n",
    "Median -  The Median is the Middle value in a data set when the values are arranged in increasing or decreasing order.\n",
    "\n",
    "Mode  - The Mode is the value that occurs Most Frequently in a data set.\n",
    "\n"
   ]
  },
  {
   "cell_type": "markdown",
   "id": "3c1a9906-99ba-484e-8869-e1a4fb5b0c10",
   "metadata": {},
   "source": [
    "# Q3. Measure the three measures of central tendency for the given height data:\n",
    "\n",
    "#  [178,177,176,177,178.2,178,175,179,180,175,178.9,176.2,177,172.5,178,176.5]"
   ]
  },
  {
   "cell_type": "code",
   "execution_count": 7,
   "id": "9c5b3018-a5d0-4e35-96ed-c42c0adc7720",
   "metadata": {},
   "outputs": [],
   "source": [
    "import numpy as np\n",
    "from scipy import stats\n",
    "data = [172.5,175,175,176,176.2,176.5,177 , 177,177,178,178,178,178.2,178.9,179,180 ]"
   ]
  },
  {
   "cell_type": "code",
   "execution_count": 8,
   "id": "a02dc87f-b0f4-4d88-9d11-1a21edfce7df",
   "metadata": {},
   "outputs": [
    {
     "data": {
      "text/plain": [
       "177.01875"
      ]
     },
     "execution_count": 8,
     "metadata": {},
     "output_type": "execute_result"
    }
   ],
   "source": [
    "np.mean(data)"
   ]
  },
  {
   "cell_type": "code",
   "execution_count": 9,
   "id": "b1ab497b-356e-4804-a9d8-2b0ce2d5cb20",
   "metadata": {},
   "outputs": [
    {
     "data": {
      "text/plain": [
       "177.0"
      ]
     },
     "execution_count": 9,
     "metadata": {},
     "output_type": "execute_result"
    }
   ],
   "source": [
    "np.median(data)"
   ]
  },
  {
   "cell_type": "code",
   "execution_count": 10,
   "id": "387b32c2-5ddd-4884-a309-b33b215f318b",
   "metadata": {},
   "outputs": [
    {
     "name": "stderr",
     "output_type": "stream",
     "text": [
      "/tmp/ipykernel_204/3267261142.py:1: FutureWarning: Unlike other reduction functions (e.g. `skew`, `kurtosis`), the default behavior of `mode` typically preserves the axis it acts along. In SciPy 1.11.0, this behavior will change: the default value of `keepdims` will become False, the `axis` over which the statistic is taken will be eliminated, and the value None will no longer be accepted. Set `keepdims` to True or False to avoid this warning.\n",
      "  stats.mode(data)\n"
     ]
    },
    {
     "data": {
      "text/plain": [
       "ModeResult(mode=array([177.]), count=array([3]))"
      ]
     },
     "execution_count": 10,
     "metadata": {},
     "output_type": "execute_result"
    }
   ],
   "source": [
    "stats.mode(data)"
   ]
  },
  {
   "cell_type": "code",
   "execution_count": null,
   "id": "0b19215f-f9ae-4d11-b740-e78fd7662ff7",
   "metadata": {},
   "outputs": [],
   "source": [
    " 1. First arrange all values = [172.5,175,175,176,176.2,176.5,177 , 177,177,178,178,178,178.2,178.9,179,180 ]   \n",
    " 2. Second Add all values = [172.5+175+175+176+176.2+176.5+177+177+177+178+178+178+178.2+178.9+179+180] = 2492.6\n",
    " 3. Third step for mean that is to divide all added values to the number of the all values =  2492.6 divide by 16 = 155.7875\n",
    "\n",
    " Median = The middle value of this dataset. which is =  177+177/2 = 177. \n",
    "\n",
    " Mode = The Most frequent value in the dataset. which is =  178 which is used in this dataset for 5 five times."
   ]
  },
  {
   "cell_type": "markdown",
   "id": "4334f283-adb0-4636-9e09-dd637cbd8ce3",
   "metadata": {},
   "source": [
    "# Q4. Find the standard deviation for the given data:\n",
    "\n",
    "# [178,177,176,177,178.2,178,175,179,180,175,178.9,176.2,177,172.5,178,176.5]"
   ]
  },
  {
   "cell_type": "code",
   "execution_count": 27,
   "id": "b6b6d35e-ea4c-46c5-b29d-4c8dd461ae53",
   "metadata": {},
   "outputs": [
    {
     "data": {
      "text/plain": [
       "1.8472389305844188"
      ]
     },
     "execution_count": 27,
     "metadata": {},
     "output_type": "execute_result"
    }
   ],
   "source": [
    "import statistics\n",
    "f_Std =[172.5,175,175,176,176.2,176.5,177 , 177,177,178,178,178,178.2,178.9,179,180 ]\n",
    "statistics.stdev(f_Std)"
   ]
  },
  {
   "cell_type": "markdown",
   "id": "1e2d9586-2cac-4d5b-af43-fe69ceaba755",
   "metadata": {},
   "source": [
    "# Q5. How are measures of dispersion such as range, variance, and standard deviation used to describe the spread of a dataset? Provide an example."
   ]
  },
  {
   "cell_type": "code",
   "execution_count": null,
   "id": "ff8be849-22bb-494d-8e65-6d6c2501130f",
   "metadata": {},
   "outputs": [],
   "source": [
    "#Question5:\n",
    "\n",
    "Measures of dispersion such as range, variance, and standard deviation are used to describe the spread or variability of a\n",
    "dataset. They provide information about how much the values in the dataset vary from each other.\n",
    "\n",
    "1.Range: The range is the difference between the largest and smallest values in a dataset. It provides a quick and easy way to\n",
    "describe the spread of a dataset, but it is sensitive to extreme values or outliers. For example, if a dataset contains the \n",
    "values {2, 5, 7, 9, 100}, the range would be 100 - 2 = 98.\n",
    "\n",
    "2.Variance: The variance is a measure of how much the values in a dataset vary from the mean. It is calculated by \n",
    "subtracting each value from the mean, squaring the differences, summing them up, and dividing by the total number of values\n",
    "minus one. A higher variance indicates that the values are more spread out, while a lower variance indicates that the values \n",
    "are more clustered around the mean. For example, if a dataset contains the values {2, 5, 7, 9, 11},\n",
    "the variance would be ((2-7)^2 + (5-7)^2 + (7-7)^2 + (9-7)^2 + (11-7)^2) / (5-1) = 8.\n",
    "\n",
    "3.Standard deviation: The standard deviation is the square root of the variance and provides a more intuitive measure of how much\n",
    "the values in a dataset vary from the mean. It is useful because it has the same unit of measurement as the original data and\n",
    "is easier to interpret. A higher standard deviation indicates that the values are more spread out, while a lower standard deviation \n",
    "indicates that the values are more clustered around the mean. For example, if a dataset contain                                                      s the values {2, 5, 7, 9, 11},\n",
    "the standard deviation would be the square root of the variance calculated above, which is approximately 2.83.\n",
    "    \n",
    "Example\n",
    "\n",
    "Suppose a teacher wants to compare the test scores of two classes of students. \n",
    "Class A has test scores of {60, 65, 70, 75, 80}, and Class B has test scores of {50, 60, 70, 80, 90}.\n",
    "While both classes have a median of 70 and a mean of 70, they have different levels of variability.\n",
    "The range of Class A is 20 (80 - 60), while the range of Class B is 40 (90 - 50), indicating that \n",
    "Class B has more spread out test scores. The variance of Class A is 62.5, while the variance of Class B is 200, indicating that \n",
    "Class B has more variability in test scores. The standard deviation of Class A is approximately 7.91, \n",
    "while the standard deviation of Class B is approximately 14.14, confirming that Class B has more variability in test scores.\n",
    "These measures of dispersion can help the teacher better understand the distribution of test scores and make more informed decisions about how to support the students in each class.\n"
   ]
  },
  {
   "cell_type": "markdown",
   "id": "f3850f4c-516c-49db-8c3c-ad5e6d98844b",
   "metadata": {},
   "source": [
    "# Q6. What is a Venn diagram?"
   ]
  },
  {
   "cell_type": "code",
   "execution_count": null,
   "id": "4fae48ec-541d-4e7b-b561-be3ef87d51d8",
   "metadata": {},
   "outputs": [],
   "source": [
    "Venn Diagram is a graphical way to represent relationship between two different set of objects. it is discrebed by Methematician John Venn at 1880."
   ]
  },
  {
   "cell_type": "markdown",
   "id": "22ba8e6f-45d1-4a87-b5cb-064ce105acdc",
   "metadata": {},
   "source": [
    "# Q7. For the two given sets A = (2,3,4,5,6,7) & B = (0,2,6,8,10). Find:\n",
    "\n",
    "# (i) \tA intersection  B\n",
    "\n",
    "# (ii)\tA ⋃ B"
   ]
  },
  {
   "cell_type": "code",
   "execution_count": 13,
   "id": "87d7fb44-4064-4f54-9235-879c785f7056",
   "metadata": {},
   "outputs": [],
   "source": [
    "A = (2,3,4,5,6,7) \n",
    "B = (0,2,6,8,10)\n",
    "\n",
    "A_intersection_B = (2,6)\n",
    "Aunion_B = (0,2,3,4,5,6,7,8,10)"
   ]
  },
  {
   "cell_type": "code",
   "execution_count": 14,
   "id": "3d9bc13a-b4f1-4c0a-8d38-3e1219408f20",
   "metadata": {},
   "outputs": [],
   "source": [
    "import numpy as np"
   ]
  },
  {
   "cell_type": "code",
   "execution_count": 15,
   "id": "3277239b-5d7b-49bc-b95a-bf5060d2dc13",
   "metadata": {},
   "outputs": [
    {
     "data": {
      "text/plain": [
       "array([2, 6])"
      ]
     },
     "execution_count": 15,
     "metadata": {},
     "output_type": "execute_result"
    }
   ],
   "source": [
    "np.intersect1d(A , B)"
   ]
  },
  {
   "cell_type": "code",
   "execution_count": 16,
   "id": "bfb32970-d7f2-4b40-9472-535ebf021871",
   "metadata": {},
   "outputs": [
    {
     "data": {
      "text/plain": [
       "array([ 0,  2,  3,  4,  5,  6,  7,  8, 10])"
      ]
     },
     "execution_count": 16,
     "metadata": {},
     "output_type": "execute_result"
    }
   ],
   "source": [
    "np.union1d(A,B)"
   ]
  },
  {
   "cell_type": "markdown",
   "id": "cc7fc050-fbe6-4e74-8fef-953cca4bf744",
   "metadata": {},
   "source": [
    "# Q8. What do you understand about skewness in data?"
   ]
  },
  {
   "cell_type": "code",
   "execution_count": null,
   "id": "64a4db90-0b5f-4cd4-bbe9-8a864c5b97f3",
   "metadata": {},
   "outputs": [],
   "source": [
    "skewness discribes the distribution of a dataset."
   ]
  },
  {
   "cell_type": "markdown",
   "id": "160a737d-4bb1-4500-9fbb-7bec2860961d",
   "metadata": {},
   "source": [
    "# Q9. If a data is right skewed then what will be the position of median with respect to mean?"
   ]
  },
  {
   "cell_type": "code",
   "execution_count": null,
   "id": "102f6c43-9c62-4695-ac87-00bc2654c067",
   "metadata": {},
   "outputs": [],
   "source": [
    "if a data is right skewed then the position of median is left side of the mean."
   ]
  },
  {
   "cell_type": "markdown",
   "id": "cb60f4d0-3908-4a7e-8510-6242fb7ca505",
   "metadata": {},
   "source": [
    "# Q10. Explain the difference between covariance and correlation. How are these measures used in statistical analysis?"
   ]
  },
  {
   "cell_type": "code",
   "execution_count": null,
   "id": "35fbc9fc-6d1c-4fe0-828f-045b348d76e8",
   "metadata": {},
   "outputs": [],
   "source": [
    "#Question 10:\n",
    "\n",
    "Covariance is a measure of the joint variability between two variables. Specifically,\n",
    "it measures how much two variables change together. \n",
    "A positive covariance indicates that the two variables tend to increase or decrease together,\n",
    "while a negative covariance indicates that they tend to vary in opposite directions.\n",
    "However, the magnitude of covariance is affected by the scale of the variables,\n",
    "which can make it difficult to compare covariances across different datasets.\n",
    "\n",
    "Correlation, on the other hand, is a standardized measure of the relationship between two variables.\n",
    "Like covariance, it measures how much the variables vary together, but it also takes into account the scale of the variables.\n",
    "Specifically, correlation measures the strength and direction of the linear relationship between two variables.\n",
    "Correlation coefficients range from -1 to +1, with a value of -1 indicating a perfect negative correlation \n",
    "(i.e., the variables are perfectly inversely related), a value of +1 indicating a perfect positive correlation (i.e., \n",
    "the variables are perfectly related), and a value of 0 indicating no linear relationship between the variables.\n",
    "\n",
    "Both covariance and correlation are used in statistical analysis to understand the relationship between two variables in a dataset. \n",
    "They can help researchers to identify patterns, trends, and associations, and to make predictions about future outcomes.\n",
    "However, correlation is generally considered to be a more useful measure than covariance,\n",
    "because it is standardized and can be compared across different datasets.\n",
    "In addition, correlation is used in many statistical tests and models, such as regression analysis,\n",
    "where it is used to assess the strength and significance of the relationship between the independent and dependent variables.\n"
   ]
  },
  {
   "cell_type": "markdown",
   "id": "0b667038-8bd8-4c33-88a7-a01cfea76531",
   "metadata": {},
   "source": [
    "# Q11. What is the formula for calculating the sample mean? Provide an example calculation for a dataset."
   ]
  },
  {
   "cell_type": "code",
   "execution_count": 2,
   "id": "38ce3c79-2208-4748-85e0-f436c7e91398",
   "metadata": {},
   "outputs": [
    {
     "name": "stderr",
     "output_type": "stream",
     "text": [
      "/tmp/ipykernel_77/3301772703.py:4: FutureWarning: The default value of numeric_only in DataFrame.mean is deprecated. In a future version, it will default to False. In addition, specifying 'numeric_only=None' is deprecated. Select only valid columns or specify the value of numeric_only to silence this warning.\n",
      "  df.mean()\n"
     ]
    },
    {
     "data": {
      "text/plain": [
       "total_bill    19.785943\n",
       "tip            2.998279\n",
       "size           2.569672\n",
       "dtype: float64"
      ]
     },
     "execution_count": 2,
     "metadata": {},
     "output_type": "execute_result"
    }
   ],
   "source": [
    "# formula of calculating the sample mean = summition of xi/n.\n",
    "import seaborn as sns\n",
    "df = sns.load_dataset('tips')\n",
    "df.mean()"
   ]
  },
  {
   "cell_type": "code",
   "execution_count": 4,
   "id": "d1c9469c-d862-45fd-b15e-ab29280896ad",
   "metadata": {},
   "outputs": [],
   "source": [
    "# in other words.\n",
    "\n",
    "# Dataset = [45,50,55,60,65,70]\n",
    "# formula of mean = summition i = 1 to n  of (xi/n)\n",
    "# mean = 45+50+55+60+65+70 = 345 divide by 6 which is 57.5."
   ]
  },
  {
   "cell_type": "markdown",
   "id": "d06cfe8f-f323-49f8-9199-269241a4af3f",
   "metadata": {},
   "source": [
    "# Q12. For a normal distribution data what is the relationship between its measure of central tendency?"
   ]
  },
  {
   "cell_type": "code",
   "execution_count": null,
   "id": "631c0e53-933b-465b-a729-5e96f83a8c4d",
   "metadata": {},
   "outputs": [],
   "source": [
    "for a normal distribution mean , median and mode all are equal.\n",
    "because of the normal distributin is symmetric distribution. \n",
    "the mean , median and the mode is located at the center of the distribution.\n"
   ]
  },
  {
   "cell_type": "markdown",
   "id": "94304076-4a7b-4a8a-b178-f9ab1153643c",
   "metadata": {},
   "source": [
    "# Q13. How is covariance different from correlation?"
   ]
  },
  {
   "cell_type": "code",
   "execution_count": null,
   "id": "887cdb22-dec0-48a3-966b-68444a9ff6ab",
   "metadata": {},
   "outputs": [],
   "source": [
    "Main difference between Covariance and Correlation - \n",
    "1. Correlation starts from -1 and ends to +1 where as Covariance  starts from negetive infinite and ends to positive infinite. "
   ]
  },
  {
   "cell_type": "markdown",
   "id": "fdc4b4eb-e9f2-48f5-8b37-6a25b78cee38",
   "metadata": {},
   "source": [
    "# Q14. How do outliers affect measures of central tendency and dispersion? Provide an example."
   ]
  },
  {
   "cell_type": "code",
   "execution_count": null,
   "id": "94e17611-1dfc-4ccf-a897-5a437a93c1f7",
   "metadata": {},
   "outputs": [],
   "source": [
    "Outliers can have a significant impact on measures of dispersion,\n",
    "such as the range, variance, and standard deviation.\n",
    "This is because outliers are extreme values that are far away from the rest of the data.\n",
    "When outliers are present, they can pull the average of the data towards them, which can make the data appear more spread out than it actually is."
   ]
  },
  {
   "cell_type": "code",
   "execution_count": null,
   "id": "c105470e-db1d-42f8-bf0d-00998d65de47",
   "metadata": {},
   "outputs": [],
   "source": [
    "Outliers can have a significant impact on measures of central tendency.such as Mean , Median , Mode.\n",
    "\n",
    "1. Mean = Mean is the avrage value of the dataset,Outliers have significant impact of the mean.\n",
    "2. Median = The median is the middle value in the data set, when the values are ordered from smallest to largest.\n",
    "Outliers have less of an impact on the median.\n",
    "3. Mode = Mode is the most frequent value in the dataset. Outliers have no impact on mode. "
   ]
  },
  {
   "cell_type": "code",
   "execution_count": 42,
   "id": "beeae6cf-46f4-4d21-8ff2-26b682f7985b",
   "metadata": {},
   "outputs": [
    {
     "name": "stderr",
     "output_type": "stream",
     "text": [
      "/tmp/ipykernel_77/2146588912.py:5: DeprecationWarning: scipy.mean is deprecated and will be removed in SciPy 2.0.0, use numpy.mean instead\n",
      "  sp.mean(data)\n"
     ]
    },
    {
     "data": {
      "text/plain": [
       "57.5"
      ]
     },
     "execution_count": 42,
     "metadata": {},
     "output_type": "execute_result"
    }
   ],
   "source": [
    "# Outliers affects mean - for example we have to find mean value for a dataset called x lets find it .\n",
    "import scipy as sp\n",
    "data = [45,50,55,60,65,70]\n",
    "sp.mean(data)"
   ]
  },
  {
   "cell_type": "code",
   "execution_count": 43,
   "id": "437ac7fe-15d8-4b75-bdd2-a5cce9f6cb12",
   "metadata": {},
   "outputs": [
    {
     "name": "stderr",
     "output_type": "stream",
     "text": [
      "/tmp/ipykernel_77/2884768741.py:3: DeprecationWarning: scipy.mean is deprecated and will be removed in SciPy 2.0.0, use numpy.mean instead\n",
      "  sp.mean(x)\n"
     ]
    },
    {
     "data": {
      "text/plain": [
       "120.71428571428571"
      ]
     },
     "execution_count": 43,
     "metadata": {},
     "output_type": "execute_result"
    }
   ],
   "source": [
    "# in the last dataframe we haven't any outliers but on the other hand df_1 have an outlier.\n",
    "x = [45,50,55,60,65,70,500]\n",
    "sp.mean(x)\n",
    "# now we can clearly see affect of the outliers on measure of central tendency."
   ]
  },
  {
   "cell_type": "code",
   "execution_count": null,
   "id": "b23ae05d-3014-450d-8a19-59841fed729f",
   "metadata": {},
   "outputs": [],
   "source": [
    "Outliers can have a significant impact on measure of dispersion.\n",
    "such as Range , Variance and Standard deviation.\n",
    "\n",
    "Outliers can make it difficult to accurately meansure the dispersion of a dataset. this is because outliers can cause the range , standard deviation \n",
    "and variance  to be much larger than they would be without them."
   ]
  },
  {
   "cell_type": "code",
   "execution_count": 20,
   "id": "25aa5ed7-1ec8-447b-928e-a16261a957de",
   "metadata": {},
   "outputs": [],
   "source": [
    "e.g. \n",
    "lets say if variance of this dataset - [60,65,70,75,80] is equals to 62.5. and the standard deviation of this dataset is equals to 7.90 .\n",
    "if there was a outliers present in this dataset so variance  and  standard deviation of those dataset would be  25722.2 and 160.3"
   ]
  },
  {
   "cell_type": "code",
   "execution_count": null,
   "id": "a27aa698-0337-4388-a8d2-2ba9e7949db3",
   "metadata": {},
   "outputs": [],
   "source": []
  }
 ],
 "metadata": {
  "kernelspec": {
   "display_name": "Python 3 (ipykernel)",
   "language": "python",
   "name": "python3"
  },
  "language_info": {
   "codemirror_mode": {
    "name": "ipython",
    "version": 3
   },
   "file_extension": ".py",
   "mimetype": "text/x-python",
   "name": "python",
   "nbconvert_exporter": "python",
   "pygments_lexer": "ipython3",
   "version": "3.10.8"
  }
 },
 "nbformat": 4,
 "nbformat_minor": 5
}
